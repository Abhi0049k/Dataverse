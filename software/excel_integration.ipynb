{
 "cells": [
  {
   "cell_type": "code",
   "execution_count": 1,
   "metadata": {},
   "outputs": [
    {
     "name": "stdout",
     "output_type": "stream",
     "text": [
      "                       Dataverse          Unnamed: 1 Unnamed: 2  \\\n",
      "0  Features Left to be Developed                 NaN        NaN   \n",
      "1                        Sr. No.             Feature   Category   \n",
      "2                              1         Radar chart     Button   \n",
      "3                              2  Plotting equations     Button   \n",
      "4                              3                Maps     Button   \n",
      "5                              4          3D Scatter     Button   \n",
      "6                              5          3D Surface     Button   \n",
      "7                              6   Excel integration     Window   \n",
      "8                              7     Download option     Window   \n",
      "\n",
      "           Unnamed: 3  \n",
      "0                 NaN  \n",
      "1  To be Developed by  \n",
      "2                  Me  \n",
      "3                  Me  \n",
      "4                  Me  \n",
      "5                  OS  \n",
      "6                  OS  \n",
      "7                  Me  \n",
      "8                  Me  \n"
     ]
    }
   ],
   "source": [
    "import matplotlib.pyplot as plt\n",
    "import pandas as pd\n",
    "import numpy as np\n",
    "\n",
    "\n",
    "df = pd.read_excel(r'C:\\Users\\iamte\\OneDrive\\Desktop\\Dataverse\\software\\excel_py_dataverse.xlsx')\n",
    "print(df)"
   ]
  },
  {
   "cell_type": "code",
   "execution_count": 2,
   "metadata": {},
   "outputs": [
    {
     "data": {
      "text/html": [
       "<div>\n",
       "<style scoped>\n",
       "    .dataframe tbody tr th:only-of-type {\n",
       "        vertical-align: middle;\n",
       "    }\n",
       "\n",
       "    .dataframe tbody tr th {\n",
       "        vertical-align: top;\n",
       "    }\n",
       "\n",
       "    .dataframe thead th {\n",
       "        text-align: right;\n",
       "    }\n",
       "</style>\n",
       "<table border=\"1\" class=\"dataframe\">\n",
       "  <thead>\n",
       "    <tr style=\"text-align: right;\">\n",
       "      <th></th>\n",
       "      <th>Dataverse</th>\n",
       "      <th>Unnamed: 1</th>\n",
       "      <th>Unnamed: 2</th>\n",
       "      <th>Unnamed: 3</th>\n",
       "    </tr>\n",
       "  </thead>\n",
       "  <tbody>\n",
       "    <tr>\n",
       "      <th>0</th>\n",
       "      <td>Features Left to be Developed</td>\n",
       "      <td>NaN</td>\n",
       "      <td>NaN</td>\n",
       "      <td>NaN</td>\n",
       "    </tr>\n",
       "    <tr>\n",
       "      <th>1</th>\n",
       "      <td>Sr. No.</td>\n",
       "      <td>Feature</td>\n",
       "      <td>Category</td>\n",
       "      <td>To be Developed by</td>\n",
       "    </tr>\n",
       "    <tr>\n",
       "      <th>2</th>\n",
       "      <td>1</td>\n",
       "      <td>Radar chart</td>\n",
       "      <td>Button</td>\n",
       "      <td>Me</td>\n",
       "    </tr>\n",
       "    <tr>\n",
       "      <th>3</th>\n",
       "      <td>2</td>\n",
       "      <td>Plotting equations</td>\n",
       "      <td>Button</td>\n",
       "      <td>Me</td>\n",
       "    </tr>\n",
       "    <tr>\n",
       "      <th>4</th>\n",
       "      <td>3</td>\n",
       "      <td>Maps</td>\n",
       "      <td>Button</td>\n",
       "      <td>Me</td>\n",
       "    </tr>\n",
       "  </tbody>\n",
       "</table>\n",
       "</div>"
      ],
      "text/plain": [
       "                       Dataverse          Unnamed: 1 Unnamed: 2  \\\n",
       "0  Features Left to be Developed                 NaN        NaN   \n",
       "1                        Sr. No.             Feature   Category   \n",
       "2                              1         Radar chart     Button   \n",
       "3                              2  Plotting equations     Button   \n",
       "4                              3                Maps     Button   \n",
       "\n",
       "           Unnamed: 3  \n",
       "0                 NaN  \n",
       "1  To be Developed by  \n",
       "2                  Me  \n",
       "3                  Me  \n",
       "4                  Me  "
      ]
     },
     "execution_count": 2,
     "metadata": {},
     "output_type": "execute_result"
    }
   ],
   "source": [
    "df.head()"
   ]
  }
 ],
 "metadata": {
  "kernelspec": {
   "display_name": "Python 3",
   "language": "python",
   "name": "python3"
  },
  "language_info": {
   "codemirror_mode": {
    "name": "ipython",
    "version": 3
   },
   "file_extension": ".py",
   "mimetype": "text/x-python",
   "name": "python",
   "nbconvert_exporter": "python",
   "pygments_lexer": "ipython3",
   "version": "3.11.4"
  }
 },
 "nbformat": 4,
 "nbformat_minor": 2
}
